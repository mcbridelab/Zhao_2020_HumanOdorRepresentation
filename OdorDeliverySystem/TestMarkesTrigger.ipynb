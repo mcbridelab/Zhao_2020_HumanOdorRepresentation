{
 "cells": [
  {
   "cell_type": "code",
   "execution_count": 1,
   "metadata": {},
   "outputs": [],
   "source": [
    "import nidaqmx\n",
    "from datetime import datetime"
   ]
  },
  {
   "cell_type": "code",
   "execution_count": 2,
   "metadata": {},
   "outputs": [
    {
     "data": {
      "text/plain": [
       "DIChannel(name=USB6000/port0/line2)"
      ]
     },
     "execution_count": 2,
     "metadata": {},
     "output_type": "execute_result"
    }
   ],
   "source": [
    "dev = 'USB6000/'\n",
    "# which lines are connected to ScanImage DAQ\n",
    "start_line = 'pfi0'\n",
    "stop_line = 'pfi1'\n",
    "markes_line = 'port0/line2'\n",
    "daq_task = nidaqmx.Task()\n",
    "daq_task.do_channels.add_do_chan(dev + start_line)\n",
    "daq_task.do_channels.add_do_chan(dev + stop_line)\n",
    "daq_task2 = nidaqmx.Task()\n",
    "daq_task2.di_channels.add_di_chan(dev + markes_line)"
   ]
  },
  {
   "cell_type": "code",
   "execution_count": 7,
   "metadata": {},
   "outputs": [
    {
     "name": "stdout",
     "output_type": "stream",
     "text": [
      "2019-06-05 17:42:26.953026\n"
     ]
    }
   ],
   "source": [
    "while not daq_task2.read():\n",
    "    a=1\n",
    "print(datetime.now())"
   ]
  },
  {
   "cell_type": "code",
   "execution_count": 1,
   "metadata": {},
   "outputs": [
    {
     "name": "stdout",
     "output_type": "stream",
     "text": [
      "False\n"
     ]
    }
   ],
   "source": [
    "a = False\n",
    "print(str(a))"
   ]
  },
  {
   "cell_type": "code",
   "execution_count": null,
   "metadata": {},
   "outputs": [],
   "source": []
  }
 ],
 "metadata": {
  "kernelspec": {
   "display_name": "Python 3",
   "language": "python",
   "name": "python3"
  },
  "language_info": {
   "codemirror_mode": {
    "name": "ipython",
    "version": 3
   },
   "file_extension": ".py",
   "mimetype": "text/x-python",
   "name": "python",
   "nbconvert_exporter": "python",
   "pygments_lexer": "ipython3",
   "version": "3.7.3"
  }
 },
 "nbformat": 4,
 "nbformat_minor": 2
}
